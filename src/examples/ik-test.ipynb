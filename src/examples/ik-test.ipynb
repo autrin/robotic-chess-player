{
 "cells": [
  {
   "cell_type": "code",
   "id": "initial_id",
   "metadata": {
    "collapsed": true,
    "ExecuteTime": {
     "end_time": "2025-05-06T11:01:34.285861Z",
     "start_time": "2025-05-06T11:01:33.886202Z"
    }
   },
   "source": [
    "import numpy as np\n",
    "import matplotlib.pyplot as plt\n",
    "from matplotlib.animation import FuncAnimation\n",
    "from mpl_toolkits.mplot3d import Axes3D\n",
    "\n",
    "from jh1.robotics import Armature\n",
    "from jh1.robotics.kinematics import JointVector\n"
   ],
   "outputs": [],
   "execution_count": 1
  },
  {
   "metadata": {
    "ExecuteTime": {
     "end_time": "2025-05-06T11:01:34.383041Z",
     "start_time": "2025-05-06T11:01:34.378018Z"
    }
   },
   "cell_type": "code",
   "source": [
    "a8 = Armature.forward_kinematics(JointVector.from_topic([1.9908550421344202, -1.0797357720187684, 1.2676620483398438, -2.4606195888915003, -1.6312678495990198, 1.6715844869613647]))[-1]\n",
    "h8 = Armature.forward_kinematics(JointVector.from_topic([1.0309518019305628, -0.5775613945773621, 1.2293174266815186, -2.0083195171751917, -1.6719935576068323, 1.6715705394744873]))[-1]\n",
    "h1 = Armature.forward_kinematics(JointVector.from_topic([1.0655153433429163, -0.5972040456584473, 0.8859420418739319, -2.010952135125631, -1.5819533506976526, 1.3885889053344727]))[-1]"
   ],
   "id": "ba390f25e1e394c7",
   "outputs": [],
   "execution_count": 2
  },
  {
   "metadata": {
    "ExecuteTime": {
     "end_time": "2025-05-06T11:01:34.441260Z",
     "start_time": "2025-05-06T11:01:34.438193Z"
    }
   },
   "cell_type": "code",
   "source": "print(a8, h8, h1)",
   "id": "c6905f5a1245d231",
   "outputs": [
    {
     "name": "stdout",
     "output_type": "stream",
     "text": [
      "[-0.06563345 -0.77248708  0.16801527] [-0.22910029 -1.1340438   0.16420034] [-0.58314114 -0.98731112  0.16463956]\n"
     ]
    }
   ],
   "execution_count": 3
  },
  {
   "metadata": {
    "ExecuteTime": {
     "end_time": "2025-05-06T11:01:34.492294Z",
     "start_time": "2025-05-06T11:01:34.488999Z"
    }
   },
   "cell_type": "code",
   "source": [
    "x_dir = (h8 - a8) / 7\n",
    "y_dir = (h1 - h8) / 7\n",
    "\n",
    "# Assume constant z\n",
    "z_base = (a8[2] + h8[2] + h1[2]) / 3\n"
   ],
   "id": "82c1ea2aae72c3b2",
   "outputs": [],
   "execution_count": 4
  },
  {
   "metadata": {
    "ExecuteTime": {
     "end_time": "2025-05-06T11:01:34.548997Z",
     "start_time": "2025-05-06T11:01:34.544998Z"
    }
   },
   "cell_type": "code",
   "source": [
    "board = {}\n",
    "files = \"abcdefgh\"\n",
    "for i, file in enumerate(files):\n",
    "    for rank in range(1, 9):\n",
    "        pos = a8 + i * x_dir + (8 - rank) * y_dir\n",
    "        board[f\"{file}{rank}\"] = pos"
   ],
   "id": "4a3e441de637972c",
   "outputs": [],
   "execution_count": 5
  },
  {
   "metadata": {
    "ExecuteTime": {
     "end_time": "2025-05-06T11:01:36.669757Z",
     "start_time": "2025-05-06T11:01:34.598083Z"
    }
   },
   "cell_type": "code",
   "source": "LOOKUP = {k: Armature.inverse_kinematics(v) for k,v in board.items()}\n",
   "id": "50cc9b521a0880c",
   "outputs": [
    {
     "name": "stdout",
     "output_type": "stream",
     "text": [
      "[ur10e_inverse_kinematics] Solving IK for [-0.4196743  -0.6257544   0.16845449]\n",
      "[ur10e_inverse_kinematics] IK solution converged!\n",
      "[ur10e_inverse_kinematics] Solving IK for [-0.36909704 -0.64671621  0.16839174]\n",
      "[ur10e_inverse_kinematics] IK solution converged!\n",
      "[ur10e_inverse_kinematics] Solving IK for [-0.31851977 -0.66767802  0.168329  ]\n",
      "[ur10e_inverse_kinematics] IK solution converged!\n",
      "[ur10e_inverse_kinematics] Solving IK for [-0.26794251 -0.68863983  0.16826625]\n",
      "[ur10e_inverse_kinematics] IK solution converged!\n",
      "[ur10e_inverse_kinematics] Solving IK for [-0.21736525 -0.70960164  0.16820351]\n",
      "[ur10e_inverse_kinematics] IK solution converged!\n",
      "[ur10e_inverse_kinematics] Solving IK for [-0.16678798 -0.73056346  0.16814076]\n",
      "[ur10e_inverse_kinematics] IK solution converged!\n",
      "[ur10e_inverse_kinematics] Solving IK for [-0.11621072 -0.75152527  0.16807801]\n",
      "[ur10e_inverse_kinematics] IK solution converged!\n",
      "[ur10e_inverse_kinematics] Solving IK for [-0.06563345 -0.77248708  0.16801527]\n",
      "[ur10e_inverse_kinematics] IK solution converged!\n",
      "[ur10e_inverse_kinematics] Solving IK for [-0.44302671 -0.67740536  0.1679095 ]\n",
      "[ur10e_inverse_kinematics] IK solution converged!\n",
      "[ur10e_inverse_kinematics] Solving IK for [-0.39244944 -0.69836717  0.16784675]\n",
      "[ur10e_inverse_kinematics] IK solution converged!\n",
      "[ur10e_inverse_kinematics] Solving IK for [-0.34187218 -0.71932898  0.16778401]\n",
      "[ur10e_inverse_kinematics] IK solution converged!\n",
      "[ur10e_inverse_kinematics] Solving IK for [-0.29129492 -0.74029079  0.16772126]\n",
      "[ur10e_inverse_kinematics] IK solution converged!\n",
      "[ur10e_inverse_kinematics] Solving IK for [-0.24071765 -0.7612526   0.16765852]\n",
      "[ur10e_inverse_kinematics] IK solution converged!\n",
      "[ur10e_inverse_kinematics] Solving IK for [-0.19014039 -0.78221442  0.16759577]\n",
      "[ur10e_inverse_kinematics] IK solution converged!\n",
      "[ur10e_inverse_kinematics] Solving IK for [-0.13956312 -0.80317623  0.16753302]\n",
      "[ur10e_inverse_kinematics] IK solution converged!\n",
      "[ur10e_inverse_kinematics] Solving IK for [-0.08898586 -0.82413804  0.16747028]\n",
      "[ur10e_inverse_kinematics] IK solution converged!\n",
      "[ur10e_inverse_kinematics] Solving IK for [-0.46637911 -0.72905632  0.16736451]\n",
      "[ur10e_inverse_kinematics] IK solution converged!\n",
      "[ur10e_inverse_kinematics] Solving IK for [-0.41580185 -0.75001813  0.16730176]\n",
      "[ur10e_inverse_kinematics] IK solution converged!\n",
      "[ur10e_inverse_kinematics] Solving IK for [-0.36522458 -0.77097994  0.16723902]\n",
      "[ur10e_inverse_kinematics] IK solution converged!\n",
      "[ur10e_inverse_kinematics] Solving IK for [-0.31464732 -0.79194175  0.16717627]\n",
      "[ur10e_inverse_kinematics] IK solution converged!\n",
      "[ur10e_inverse_kinematics] Solving IK for [-0.26407006 -0.81290357  0.16711353]\n",
      "[ur10e_inverse_kinematics] IK solution converged!\n",
      "[ur10e_inverse_kinematics] Solving IK for [-0.21349279 -0.83386538  0.16705078]\n",
      "[ur10e_inverse_kinematics] IK solution converged!\n",
      "[ur10e_inverse_kinematics] Solving IK for [-0.16291553 -0.85482719  0.16698803]\n",
      "[ur10e_inverse_kinematics] IK solution converged!\n",
      "[ur10e_inverse_kinematics] Solving IK for [-0.11233827 -0.875789    0.16692529]\n",
      "[ur10e_inverse_kinematics] IK solution converged!\n",
      "[ur10e_inverse_kinematics] Solving IK for [-0.48973152 -0.78070728  0.16681952]\n",
      "[ur10e_inverse_kinematics] IK solution converged!\n",
      "[ur10e_inverse_kinematics] Solving IK for [-0.43915425 -0.80166909  0.16675678]\n",
      "[ur10e_inverse_kinematics] IK solution converged!\n",
      "[ur10e_inverse_kinematics] Solving IK for [-0.38857699 -0.8226309   0.16669403]\n",
      "[ur10e_inverse_kinematics] IK solution converged!\n",
      "[ur10e_inverse_kinematics] Solving IK for [-0.33799973 -0.84359271  0.16663128]\n",
      "[ur10e_inverse_kinematics] IK solution converged!\n",
      "[ur10e_inverse_kinematics] Solving IK for [-0.28742246 -0.86455453  0.16656854]\n",
      "[ur10e_inverse_kinematics] IK solution converged!\n",
      "[ur10e_inverse_kinematics] Solving IK for [-0.2368452  -0.88551634  0.16650579]\n",
      "[ur10e_inverse_kinematics] IK solution converged!\n",
      "[ur10e_inverse_kinematics] Solving IK for [-0.18626794 -0.90647815  0.16644304]\n",
      "[ur10e_inverse_kinematics] IK solution converged!\n",
      "[ur10e_inverse_kinematics] Solving IK for [-0.13569067 -0.92743996  0.1663803 ]\n",
      "[ur10e_inverse_kinematics] IK solution converged!\n",
      "[ur10e_inverse_kinematics] Solving IK for [-0.51308392 -0.83235824  0.16627453]\n",
      "[ur10e_inverse_kinematics] IK solution converged!\n",
      "[ur10e_inverse_kinematics] Solving IK for [-0.46250666 -0.85332005  0.16621179]\n",
      "[ur10e_inverse_kinematics] IK solution converged!\n",
      "[ur10e_inverse_kinematics] Solving IK for [-0.4119294  -0.87428186  0.16614904]\n",
      "[ur10e_inverse_kinematics] IK solution converged!\n",
      "[ur10e_inverse_kinematics] Solving IK for [-0.36135213 -0.89524367  0.16608629]\n",
      "[ur10e_inverse_kinematics] IK solution converged!\n",
      "[ur10e_inverse_kinematics] Solving IK for [-0.31077487 -0.91620549  0.16602355]\n",
      "[ur10e_inverse_kinematics] IK solution converged!\n",
      "[ur10e_inverse_kinematics] Solving IK for [-0.2601976 -0.9371673  0.1659608]\n",
      "[ur10e_inverse_kinematics] IK solution converged!\n",
      "[ur10e_inverse_kinematics] Solving IK for [-0.20962034 -0.95812911  0.16589805]\n",
      "[ur10e_inverse_kinematics] IK solution converged!\n",
      "[ur10e_inverse_kinematics] Solving IK for [-0.15904308 -0.97909092  0.16583531]\n",
      "[ur10e_inverse_kinematics] IK solution converged!\n",
      "[ur10e_inverse_kinematics] Solving IK for [-0.53643633 -0.8840092   0.16572954]\n",
      "[ur10e_inverse_kinematics] IK solution converged!\n",
      "[ur10e_inverse_kinematics] Solving IK for [-0.48585907 -0.90497101  0.1656668 ]\n",
      "[ur10e_inverse_kinematics] IK solution converged!\n",
      "[ur10e_inverse_kinematics] Solving IK for [-0.4352818  -0.92593282  0.16560405]\n",
      "[ur10e_inverse_kinematics] IK solution converged!\n",
      "[ur10e_inverse_kinematics] Solving IK for [-0.38470454 -0.94689464  0.1655413 ]\n",
      "[ur10e_inverse_kinematics] IK solution converged!\n",
      "[ur10e_inverse_kinematics] Solving IK for [-0.33412727 -0.96785645  0.16547856]\n",
      "[ur10e_inverse_kinematics] IK solution converged!\n",
      "[ur10e_inverse_kinematics] Solving IK for [-0.28355001 -0.98881826  0.16541581]\n",
      "[ur10e_inverse_kinematics] IK solution converged!\n",
      "[ur10e_inverse_kinematics] Solving IK for [-0.23297275 -1.00978007  0.16535306]\n",
      "[ur10e_inverse_kinematics] IK solution converged!\n",
      "[ur10e_inverse_kinematics] Solving IK for [-0.18239548 -1.03074188  0.16529032]\n",
      "[ur10e_inverse_kinematics] IK solution converged!\n",
      "[ur10e_inverse_kinematics] Solving IK for [-0.55978873 -0.93566016  0.16518455]\n",
      "[ur10e_inverse_kinematics] IK solution converged!\n",
      "[ur10e_inverse_kinematics] Solving IK for [-0.50921147 -0.95662197  0.16512181]\n",
      "[ur10e_inverse_kinematics] IK solution converged!\n",
      "[ur10e_inverse_kinematics] Solving IK for [-0.45863421 -0.97758378  0.16505906]\n",
      "[ur10e_inverse_kinematics] IK solution converged!\n",
      "[ur10e_inverse_kinematics] Solving IK for [-0.40805694 -0.9985456   0.16499631]\n",
      "[ur10e_inverse_kinematics] IK solution converged!\n",
      "[ur10e_inverse_kinematics] Solving IK for [-0.35747968 -1.01950741  0.16493357]\n",
      "[ur10e_inverse_kinematics] IK solution converged!\n",
      "[ur10e_inverse_kinematics] Solving IK for [-0.30690242 -1.04046922  0.16487082]\n",
      "[ur10e_inverse_kinematics] IK solution converged!\n",
      "[ur10e_inverse_kinematics] Solving IK for [-0.25632515 -1.06143103  0.16480807]\n",
      "[ur10e_inverse_kinematics] IK solution converged!\n",
      "[ur10e_inverse_kinematics] Solving IK for [-0.20574789 -1.08239284  0.16474533]\n",
      "[ur10e_inverse_kinematics] IK solution converged!\n",
      "[ur10e_inverse_kinematics] Solving IK for [-0.58314114 -0.98731112  0.16463956]\n",
      "[ur10e_inverse_kinematics] IK solution converged!\n",
      "[ur10e_inverse_kinematics] Solving IK for [-0.53256388 -1.00827293  0.16457682]\n",
      "[ur10e_inverse_kinematics] IK solution converged!\n",
      "[ur10e_inverse_kinematics] Solving IK for [-0.48198661 -1.02923475  0.16451407]\n",
      "[ur10e_inverse_kinematics] IK solution converged!\n",
      "[ur10e_inverse_kinematics] Solving IK for [-0.43140935 -1.05019656  0.16445132]\n",
      "[ur10e_inverse_kinematics] IK solution converged!\n",
      "[ur10e_inverse_kinematics] Solving IK for [-0.38083209 -1.07115837  0.16438858]\n",
      "[ur10e_inverse_kinematics] IK solution converged!\n",
      "[ur10e_inverse_kinematics] Solving IK for [-0.33025482 -1.09212018  0.16432583]\n",
      "[ur10e_inverse_kinematics] IK solution converged!\n",
      "[ur10e_inverse_kinematics] Solving IK for [-0.27967756 -1.11308199  0.16426308]\n",
      "[ur10e_inverse_kinematics] IK solution converged!\n",
      "[ur10e_inverse_kinematics] Solving IK for [-0.22910029 -1.1340438   0.16420034]\n",
      "[ur10e_inverse_kinematics] IK solution converged!\n"
     ]
    }
   ],
   "execution_count": 6
  },
  {
   "metadata": {
    "ExecuteTime": {
     "end_time": "2025-05-06T11:01:36.701548Z",
     "start_time": "2025-05-06T11:01:36.690763Z"
    }
   },
   "cell_type": "code",
   "source": "LOOKUP",
   "id": "befd9a21c1385f20",
   "outputs": [
    {
     "data": {
      "text/plain": [
       "{'a1': JointVector(shoulder_pan=0.7470078958301468, shoulder_lift=-1.1080852273595168, elbow=2.0310686677053202, wrist_1=-2.444532478515727, wrist_2=-1.5708938970134838, wrist_3=1.5707963267948966),\n",
       " 'a2': JointVector(shoulder_pan=0.8164119080046184, shoulder_lift=-1.1183257997251628, elbow=2.0464858579201195, wrist_1=-2.4401269441783042, wrist_2=-1.5708835643691965, wrist_3=1.5707963267948966),\n",
       " 'a3': JointVector(shoulder_pan=0.8882418065057667, shoulder_lift=-1.1238257445715056, elbow=2.054900845331002, wrist_1=-2.4374627624949823, wrist_2=-1.5708713814323814, wrist_3=1.5707963267948966),\n",
       " 'a4': JointVector(shoulder_pan=0.9620812415012887, shoulder_lift=-1.1249199134523045, elbow=2.0566192092136184, wrist_1=-2.4379313606281374, wrist_2=-1.570857759041701, wrist_3=1.5707963267948966),\n",
       " 'a5': JointVector(shoulder_pan=1.0369691799966871, shoulder_lift=-1.1209032635074023, elbow=2.0510995422741845, wrist_1=-2.440506579242742, wrist_2=-1.5708437446766665, wrist_3=1.5707963267948966),\n",
       " 'a6': JointVector(shoulder_pan=1.1120400198897744, shoulder_lift=-1.112243329088252, elbow=2.0382855851603114, wrist_1=-2.4440773481558904, wrist_2=-1.5708294426912743, wrist_3=1.5707963267948966),\n",
       " 'a7': JointVector(shoulder_pan=1.186592519851183, shoulder_lift=-1.0990103363884305, elbow=2.018839013881843, wrist_1=-2.4500157604407558, wrist_2=-1.5708143233020995, wrist_3=1.5707963267948966),\n",
       " 'a8': JointVector(shoulder_pan=1.2597777064723144, shoulder_lift=-1.0811729519514237, elbow=1.9929246788065622, wrist_1=-2.4598546963838634, wrist_2=-1.570797973934144, wrist_3=1.5707963267948966),\n",
       " 'b1': JointVector(shoulder_pan=0.7748804005983467, shoulder_lift=-1.041750265215218, elbow=1.9297601589755955, wrist_1=-2.4646682332232444, wrist_2=-1.5708779158706825, wrist_3=1.5707963267948966),\n",
       " 'b2': JointVector(shoulder_pan=0.8397963801099692, shoulder_lift=-1.05144409111163, elbow=1.945431004854116, wrist_1=-2.463300873482024, wrist_2=-1.5708678154834164, wrist_3=1.5707963267948966),\n",
       " 'b3': JointVector(shoulder_pan=0.9068017430128607, shoulder_lift=-1.0568348455366943, elbow=1.9540338075927475, wrist_1=-2.4618183933329036, wrist_2=-1.570856928664163, wrist_3=1.5707963267948966),\n",
       " 'b4': JointVector(shoulder_pan=0.9753116271429875, shoulder_lift=-1.0579713594162585, elbow=1.9554405923521323, wrist_1=-2.460993806399547, wrist_2=-1.5708451621439938, wrist_3=1.5707963267948966),\n",
       " 'b5': JointVector(shoulder_pan=1.0447475811898288, shoulder_lift=-1.0544246327897602, elbow=1.9501523504768619, wrist_1=-2.461060883976018, wrist_2=-1.5708325639805125, wrist_3=1.5707963267948966),\n",
       " 'b6': JointVector(shoulder_pan=1.1143979364625782, shoulder_lift=-1.0465895853989942, elbow=1.937649221144731, wrist_1=-2.461860031809758, wrist_2=-1.5708193329783557, wrist_3=1.5707963267948966),\n",
       " 'b7': JointVector(shoulder_pan=1.1835823629392395, shoulder_lift=-1.0345227827548542, elbow=1.9183542215871268, wrist_1=-2.463531230947145, wrist_2=-1.5708056164351274, wrist_3=1.5707963267948966),\n",
       " 'b8': JointVector(shoulder_pan=1.2516510654362523, shoulder_lift=-1.0185247384767664, elbow=1.8922690901050743, wrist_1=-2.4660104103527027, wrist_2=-1.5707911180016065, wrist_3=1.5707963267948966),\n",
       " 'c1': JointVector(shoulder_pan=0.7991861584665602, shoulder_lift=-0.9751865500371408, elbow=1.8215294877094113, wrist_1=-2.471802559322844, wrist_2=-1.570865389963266, wrist_3=1.5707963267948966),\n",
       " 'c2': JointVector(shoulder_pan=0.8601872020778097, shoulder_lift=-0.984543505669464, elbow=1.8367581955277006, wrist_1=-2.4693153401828223, wrist_2=-1.5708560204174005, wrist_3=1.5707963267948966),\n",
       " 'c3': JointVector(shoulder_pan=0.9229047952310959, shoulder_lift=-0.9897343596452797, elbow=1.8455198573102487, wrist_1=-2.4675942816936787, wrist_2=-1.570845827162107, wrist_3=1.5707963267948966),\n",
       " 'c4': JointVector(shoulder_pan=0.9868900637340311, shoulder_lift=-0.9907815244508245, elbow=1.8472035483244562, wrist_1=-2.4668018880691007, wrist_2=-1.5708348626740734, wrist_3=1.5707963267948966),\n",
       " 'c5': JointVector(shoulder_pan=1.0516013257403902, shoulder_lift=-0.9877050164892034, elbow=1.8421843524761194, wrist_1=-2.4668425913315297, wrist_2=-1.570823086276626, wrist_3=1.5707963267948966),\n",
       " 'c6': JointVector(shoulder_pan=1.1165120246198186, shoulder_lift=-0.9805446019003269, elbow=1.8301461776559158, wrist_1=-2.4677378512278962, wrist_2=-1.5708106215435267, wrist_3=1.5707963267948966),\n",
       " 'c7': JointVector(shoulder_pan=1.1810891467536617, shoulder_lift=-0.9690844462281037, elbow=1.8117422604806632, wrist_1=-2.469328855125585, wrist_2=-1.5707975949270192, wrist_3=1.5707963267948966),\n",
       " 'c8': JointVector(shoulder_pan=1.2447615167944102, shoulder_lift=-0.9539093325802048, elbow=1.7866283871951973, wrist_1=-2.471021104472157, wrist_2=-1.5707841159451332, wrist_3=1.5707963267948966),\n",
       " 'd1': JointVector(shoulder_pan=0.8205178654142115, shoulder_lift=-0.907195191542939, elbow=1.708614186646944, wrist_1=-2.4769469220905966, wrist_2=-1.570853149204139, wrist_3=1.5707963267948966),\n",
       " 'd2': JointVector(shoulder_pan=0.8780370399384999, shoulder_lift=-0.9162740813557828, elbow=1.7237255166957637, wrist_1=-2.4746130320374893, wrist_2=-1.5708441035411747, wrist_3=1.5707963267948966),\n",
       " 'd3': JointVector(shoulder_pan=0.9369916128111356, shoulder_lift=-0.9213915648723198, elbow=1.732241329816754, wrist_1=-2.4731396552018543, wrist_2=-1.5708344932427278, wrist_3=1.5707963267948966),\n",
       " 'd4': JointVector(shoulder_pan=0.9969880496313812, shoulder_lift=-0.9225399853095541, elbow=1.7341626214520585, wrist_1=-2.472477545240096, wrist_2=-1.570824154790519, wrist_3=1.5707963267948966),\n",
       " 'd5': JointVector(shoulder_pan=1.0575991490336114, shoulder_lift=-0.919716406649794, elbow=1.7294703565310616, wrist_1=-2.4725476560647888, wrist_2=-1.5708131655319748, wrist_3=1.5707963267948966),\n",
       " 'd6': JointVector(shoulder_pan=1.1183779912337284, shoulder_lift=-0.9129424931401692, elbow=1.7181672621763096, wrist_1=-2.4732765458871317, wrist_2=-1.5708015935761486, wrist_3=1.5707963267948966),\n",
       " 'd7': JointVector(shoulder_pan=1.1788952617726032, shoulder_lift=-0.9022647375443689, elbow=1.6998711333856318, wrist_1=-2.4745147361049327, wrist_2=-1.570789479429216, wrist_3=1.5707963267948966),\n",
       " 'd8': JointVector(shoulder_pan=1.2387249751199696, shoulder_lift=-0.8874814206772338, elbow=1.6752099943789442, wrist_1=-2.4756810307768893, wrist_2=-1.5707770023214478, wrist_3=1.5707963267948966),\n",
       " 'e1': JointVector(shoulder_pan=0.8394029792807381, shoulder_lift=-0.8369557812254278, elbow=1.589136780587643, wrist_1=-2.4814485322128492, wrist_2=-1.5708406413373726, wrist_3=1.5707963267948966),\n",
       " 'e2': JointVector(shoulder_pan=0.8937933901702336, shoulder_lift=-0.8459406961315459, elbow=1.6044501384504248, wrist_1=-2.4795395551849375, wrist_2=-1.5708323425515593, wrist_3=1.5707963267948966),\n",
       " 'e3': JointVector(shoulder_pan=0.9493923174453124, shoulder_lift=-0.851064686890313, elbow=1.6131867880541433, wrist_1=-2.4783165289314284, wrist_2=-1.5708233449885005, wrist_3=1.5707963267948966),\n",
       " 'e4': JointVector(shoulder_pan=1.005871646252616, shoulder_lift=-0.8523142295167881, elbow=1.6153375717546066, wrist_1=-2.477750289288674, wrist_2=-1.5708136724688646, wrist_3=1.5707963267948966),\n",
       " 'e5': JointVector(shoulder_pan=1.0628750260092263, shoulder_lift=-0.849687731085676, elbow=1.6108902536375262, wrist_1=-2.4777823870854823, wrist_2=-1.5708033898125662, wrist_3=1.5707963267948966),\n",
       " 'e6': JointVector(shoulder_pan=1.1200308960254821, shoulder_lift=-0.8431979683740298, elbow=1.5998333147057922, wrist_1=-2.478324400420168, wrist_2=-1.5707925590007428, wrist_3=1.5707963267948966),\n",
       " 'e7': JointVector(shoulder_pan=1.1769669372792313, shoulder_lift=-0.8328726775668914, elbow=1.582142772032244, wrist_1=-2.479195341833474, wrist_2=-1.57078125481508, wrist_3=1.5707963267948966),\n",
       " 'e8': JointVector(shoulder_pan=1.2333652910654338, shoulder_lift=-0.8184932488656288, elbow=1.5573248126075547, wrist_1=-2.4800857887978665, wrist_2=-1.5707695817363163, wrist_3=1.5707963267948966),\n",
       " 'f1': JointVector(shoulder_pan=0.8562100275927836, shoulder_lift=-0.7634949023441201, elbow=1.462037113378331, wrist_1=-2.485692064261094, wrist_2=-1.570828467887817, wrist_3=1.5707963267948966),\n",
       " 'f2': JointVector(shoulder_pan=0.9077833105060474, shoulder_lift=-0.7725483869920476, elbow=1.4777689447747688, wrist_1=-2.4841025907348566, wrist_2=-1.5708207084324186, wrist_3=1.5707963267948966),\n",
       " 'f3': JointVector(shoulder_pan=0.960385623603974, shoulder_lift=-0.7777594338051408, elbow=1.486832827814898, wrist_1=-2.4830760996682772, wrist_2=-1.5708122527513613, wrist_3=1.5707963267948966),\n",
       " 'f4': JointVector(shoulder_pan=1.0137386056605044, shoulder_lift=-0.7791262376749886, elbow=1.4892348398087694, wrist_1=-2.482577739995374, wrist_2=-1.5708031589604616, wrist_3=1.5707963267948966),\n",
       " 'f5': JointVector(shoulder_pan=1.0675418422737473, shoulder_lift=-0.7766499023968342, elbow=1.484969528509526, wrist_1=-2.482559240125061, wrist_2=-1.5707934832677675, wrist_3=1.5707963267948966),\n",
       " 'f6': JointVector(shoulder_pan=1.1214829398271193, shoulder_lift=-0.7703357252388865, elbow=1.4740169411012682, wrist_1=-2.4829377822044476, wrist_2=-1.5707832834122413, wrist_3=1.5707963267948966),\n",
       " 'f7': JointVector(shoulder_pan=1.1752483103540925, shoulder_lift=-0.7601928695649111, elbow=1.456336400300604, wrist_1=-2.4835696811285253, wrist_2=-1.570772630615693, wrist_3=1.5707963267948966),\n",
       " 'f8': JointVector(shoulder_pan=1.2285716077434672, shoulder_lift=-0.7459400693703856, elbow=1.4313575588981915, wrist_1=-2.4842704859894944, wrist_2=-1.5707615946584956, wrist_3=1.5707963267948966),\n",
       " 'g1': JointVector(shoulder_pan=0.8712848509750606, shoulder_lift=-0.6851850220398531, elbow=1.3245303240830546, wrist_1=-2.4895860335264524, wrist_2=-1.5708159851031762, wrist_3=1.5707963267948966),\n",
       " 'g2': JointVector(shoulder_pan=0.9203096608470089, shoulder_lift=-0.6945129091655359, elbow=1.3410094575627598, wrist_1=-2.4882786736245834, wrist_2=-1.5708087163340465, wrist_3=1.5707963267948966),\n",
       " 'g3': JointVector(shoulder_pan=0.9701885089061207, shoulder_lift=-0.7001940439957294, elbow=1.3510504479362615, wrist_1=-2.487394710177625, wrist_2=-1.570800804690723, wrist_3=1.5707963267948966),\n",
       " 'g4': JointVector(shoulder_pan=1.0207442422519748, shoulder_lift=-0.7017023427944327, elbow=1.353745236193261, wrist_1=-2.486954874929903, wrist_2=-1.5707922252159814, wrist_3=1.5707963267948966),\n",
       " 'g5': JointVector(shoulder_pan=1.071688939454021, shoulder_lift=-0.6993319763845652, elbow=1.3496024719657125, wrist_1=-2.486897456279287, wrist_2=-1.5707830709250155, wrist_3=1.5707963267948966),\n",
       " 'g6': JointVector(shoulder_pan=1.1227898895459583, shoulder_lift=-0.6927916797424798, elbow=1.3380893690882607, wrist_1=-2.4871762833618525, wrist_2=-1.570773351261896, wrist_3=1.5707963267948966),\n",
       " 'g7': JointVector(shoulder_pan=1.1737190580118209, shoulder_lift=-0.6826104950583128, elbow=1.320086143805909, wrist_1=-2.48764379792333, wrist_2=-1.5707632043968613, wrist_3=1.5707963267948966),\n",
       " 'g8': JointVector(shoulder_pan=1.2242773004678684, shoulder_lift=-0.6682101479724977, elbow=1.294519985214384, wrist_1=-2.4882087537610906, wrist_2=-1.5707526285669655, wrist_3=1.5707963267948966),\n",
       " 'h1': JointVector(shoulder_pan=0.8848635120864727, shoulder_lift=-0.6000057236437097, elbow=1.1730019038025232, wrist_1=-2.492990841267316, wrist_2=-1.5708024656018333, wrist_3=1.5707963267948966),\n",
       " 'h2': JointVector(shoulder_pan=0.9315499360508932, shoulder_lift=-0.6101561263100016, elbow=1.191184440119066, wrist_1=-2.491924017845537, wrist_2=-1.5707957651949784, wrist_3=1.5707963267948966),\n",
       " 'h3': JointVector(shoulder_pan=0.9790288126557669, shoulder_lift=-0.6159023305905947, elbow=1.2014926598112, wrist_1=-2.491218379985594, wrist_2=-1.5707883081446925, wrist_3=1.5707963267948966),\n",
       " 'h4': JointVector(shoulder_pan=1.027066080860436, shoulder_lift=-0.6176068809339456, elbow=1.204581036435005, wrist_1=-2.4908416354183074, wrist_2=-1.5707801989321182, wrist_3=1.5707963267948966),\n",
       " 'h5': JointVector(shoulder_pan=1.075442650143756, shoulder_lift=-0.6152792605820084, elbow=1.2004631318783583, wrist_1=-2.4907636582882007, wrist_2=-1.5707714851179284, wrist_3=1.5707963267948966),\n",
       " 'h6': JointVector(shoulder_pan=1.1239312291817976, shoulder_lift=-0.6089104847397007, elbow=1.189104292212087, wrist_1=-2.490930989344303, wrist_2=-1.5707622104494685, wrist_3=1.5707963267948966),\n",
       " 'h7': JointVector(shoulder_pan=1.1723318695533893, shoulder_lift=-0.5981390267645784, elbow=1.16982887011601, wrist_1=-2.491287531562564, wrist_2=-1.5707523677895712, wrist_3=1.5707963267948966),\n",
       " 'h8': JointVector(shoulder_pan=1.2203931371671062, shoulder_lift=-0.5831876032419183, elbow=1.1429824209143389, wrist_1=-2.491720819206713, wrist_2=-1.5707420461228234, wrist_3=1.5707963267948966)}"
      ]
     },
     "execution_count": 7,
     "metadata": {},
     "output_type": "execute_result"
    }
   ],
   "execution_count": 7
  }
 ],
 "metadata": {
  "kernelspec": {
   "display_name": "Python 3",
   "language": "python",
   "name": "python3"
  },
  "language_info": {
   "codemirror_mode": {
    "name": "ipython",
    "version": 2
   },
   "file_extension": ".py",
   "mimetype": "text/x-python",
   "name": "python",
   "nbconvert_exporter": "python",
   "pygments_lexer": "ipython2",
   "version": "2.7.6"
  }
 },
 "nbformat": 4,
 "nbformat_minor": 5
}
