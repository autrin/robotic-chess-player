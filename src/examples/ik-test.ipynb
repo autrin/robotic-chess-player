{
 "cells": [
  {
   "cell_type": "code",
   "id": "initial_id",
   "metadata": {
    "collapsed": true,
    "ExecuteTime": {
     "end_time": "2025-05-06T12:28:59.023001Z",
     "start_time": "2025-05-06T12:28:58.156978Z"
    }
   },
   "source": [
    "import numpy as np\n",
    "import matplotlib.pyplot as plt\n",
    "from matplotlib.animation import FuncAnimation\n",
    "from mpl_toolkits.mplot3d import Axes3D\n",
    "\n",
    "from jh1.robotics import Armature\n",
    "from jh1.robotics.kinematics import JointVector\n"
   ],
   "outputs": [],
   "execution_count": 1
  },
  {
   "metadata": {
    "ExecuteTime": {
     "end_time": "2025-05-06T12:28:59.294505Z",
     "start_time": "2025-05-06T12:28:59.278621Z"
    }
   },
   "cell_type": "code",
   "source": [
    "\n",
    "a8 = Armature.forward_kinematics(JointVector.from_topic(\n",
    "    [1.9908550421344202, -1.0797357720187684, 1.2676620483398438, -2.4606195888915003,\n",
    "     -1.6312678495990198, 1.6715844869613647]\n",
    "))[-1]\n",
    "h8 = Armature.forward_kinematics(JointVector.from_topic(\n",
    "    [1.0309518019305628, -0.5775613945773621, 1.2293174266815186, -2.0083195171751917,\n",
    "     -1.6719935576068323, 1.6715705394744873]\n",
    "))[-1]\n",
    "h1 = Armature.forward_kinematics(JointVector.from_topic(\n",
    "    [1.0655153433429163, -0.5972040456584473, 0.8859420418739319, -2.010952135125631,\n",
    "     -1.5819533506976526, 1.3885889053344727]\n",
    "))[-1]"
   ],
   "id": "ba390f25e1e394c7",
   "outputs": [],
   "execution_count": 2
  },
  {
   "metadata": {
    "ExecuteTime": {
     "end_time": "2025-05-06T12:28:59.336856Z",
     "start_time": "2025-05-06T12:28:59.321456Z"
    }
   },
   "cell_type": "code",
   "source": "print(a8, h8, h1)",
   "id": "c6905f5a1245d231",
   "outputs": [
    {
     "name": "stdout",
     "output_type": "stream",
     "text": [
      "[-0.06563345 -0.77248708  0.16801527] [-0.22910029 -1.1340438   0.16420034] [-0.58314114 -0.98731112  0.16463956]\n"
     ]
    }
   ],
   "execution_count": 3
  },
  {
   "metadata": {
    "ExecuteTime": {
     "end_time": "2025-05-06T12:28:59.384466Z",
     "start_time": "2025-05-06T12:28:59.368650Z"
    }
   },
   "cell_type": "code",
   "source": [
    "x_dir = (h8 - a8) / 7\n",
    "y_dir = (h1 - h8) / 7\n",
    "\n",
    "# Assume constant z\n",
    "z_base = (a8[2] + h8[2] + h1[2]) / 3\n"
   ],
   "id": "82c1ea2aae72c3b2",
   "outputs": [],
   "execution_count": 4
  },
  {
   "metadata": {
    "ExecuteTime": {
     "end_time": "2025-05-06T12:29:03.049018Z",
     "start_time": "2025-05-06T12:29:03.041937Z"
    }
   },
   "cell_type": "code",
   "source": [
    "board = {}\n",
    "files = \"abcdefgh\"\n",
    "for i, file in enumerate(files):\n",
    "    for rank in range(1, 9):\n",
    "        pos = a8 + i * x_dir + (8 - rank) * y_dir\n",
    "        board[f\"{file}{rank}\"] = pos"
   ],
   "id": "4a3e441de637972c",
   "outputs": [],
   "execution_count": 5
  },
  {
   "metadata": {
    "ExecuteTime": {
     "end_time": "2025-05-06T12:29:03.846813Z",
     "start_time": "2025-05-06T12:29:03.301376Z"
    }
   },
   "cell_type": "code",
   "source": "LOOKUP = {k: Armature.adaptive_inverse_kinematics(v) for k, v in board.items()}\n",
   "id": "50cc9b521a0880c",
   "outputs": [
    {
     "name": "stdout",
     "output_type": "stream",
     "text": [
      "[ur10e_adaptive_inverse_kinematics] Solving IK for [-0.4196743  -0.6257544   0.16845449]\n",
      "[ur10e_adaptive_inverse_kinematics] IK solution converged!\n",
      "[ur10e_adaptive_inverse_kinematics] Solving IK for [-0.36909704 -0.64671621  0.16839174]\n",
      "[ur10e_adaptive_inverse_kinematics] IK solution converged!\n",
      "[ur10e_adaptive_inverse_kinematics] Solving IK for [-0.31851977 -0.66767802  0.168329  ]\n",
      "[ur10e_adaptive_inverse_kinematics] IK solution converged!\n",
      "[ur10e_adaptive_inverse_kinematics] Solving IK for [-0.26794251 -0.68863983  0.16826625]\n",
      "[ur10e_adaptive_inverse_kinematics] IK solution converged!\n",
      "[ur10e_adaptive_inverse_kinematics] Solving IK for [-0.21736525 -0.70960164  0.16820351]\n",
      "[ur10e_adaptive_inverse_kinematics] IK solution converged!\n",
      "[ur10e_adaptive_inverse_kinematics] Solving IK for [-0.16678798 -0.73056346  0.16814076]\n",
      "[ur10e_adaptive_inverse_kinematics] IK solution converged!\n",
      "[ur10e_adaptive_inverse_kinematics] Solving IK for [-0.11621072 -0.75152527  0.16807801]\n",
      "[ur10e_adaptive_inverse_kinematics] IK solution converged!\n",
      "[ur10e_adaptive_inverse_kinematics] Solving IK for [-0.06563345 -0.77248708  0.16801527]\n",
      "[ur10e_adaptive_inverse_kinematics] IK solution converged!\n",
      "[ur10e_adaptive_inverse_kinematics] Solving IK for [-0.44302671 -0.67740536  0.1679095 ]\n",
      "[ur10e_adaptive_inverse_kinematics] IK solution converged!\n",
      "[ur10e_adaptive_inverse_kinematics] Solving IK for [-0.39244944 -0.69836717  0.16784675]\n",
      "[ur10e_adaptive_inverse_kinematics] IK solution converged!\n",
      "[ur10e_adaptive_inverse_kinematics] Solving IK for [-0.34187218 -0.71932898  0.16778401]\n",
      "[ur10e_adaptive_inverse_kinematics] IK solution converged!\n",
      "[ur10e_adaptive_inverse_kinematics] Solving IK for [-0.29129492 -0.74029079  0.16772126]\n",
      "[ur10e_adaptive_inverse_kinematics] IK solution converged!\n",
      "[ur10e_adaptive_inverse_kinematics] Solving IK for [-0.24071765 -0.7612526   0.16765852]\n",
      "[ur10e_adaptive_inverse_kinematics] IK solution converged!\n",
      "[ur10e_adaptive_inverse_kinematics] Solving IK for [-0.19014039 -0.78221442  0.16759577]\n",
      "[ur10e_adaptive_inverse_kinematics] IK solution converged!\n",
      "[ur10e_adaptive_inverse_kinematics] Solving IK for [-0.13956312 -0.80317623  0.16753302]\n",
      "[ur10e_adaptive_inverse_kinematics] IK solution converged!\n",
      "[ur10e_adaptive_inverse_kinematics] Solving IK for [-0.08898586 -0.82413804  0.16747028]\n",
      "[ur10e_adaptive_inverse_kinematics] IK solution converged!\n",
      "[ur10e_adaptive_inverse_kinematics] Solving IK for [-0.46637911 -0.72905632  0.16736451]\n",
      "[ur10e_adaptive_inverse_kinematics] IK solution converged!\n",
      "[ur10e_adaptive_inverse_kinematics] Solving IK for [-0.41580185 -0.75001813  0.16730176]\n",
      "[ur10e_adaptive_inverse_kinematics] IK solution converged!\n",
      "[ur10e_adaptive_inverse_kinematics] Solving IK for [-0.36522458 -0.77097994  0.16723902]\n",
      "[ur10e_adaptive_inverse_kinematics] IK solution converged!\n",
      "[ur10e_adaptive_inverse_kinematics] Solving IK for [-0.31464732 -0.79194175  0.16717627]\n",
      "[ur10e_adaptive_inverse_kinematics] IK solution converged!\n",
      "[ur10e_adaptive_inverse_kinematics] Solving IK for [-0.26407006 -0.81290357  0.16711353]\n",
      "[ur10e_adaptive_inverse_kinematics] IK solution converged!\n",
      "[ur10e_adaptive_inverse_kinematics] Solving IK for [-0.21349279 -0.83386538  0.16705078]\n",
      "[ur10e_adaptive_inverse_kinematics] IK solution converged!\n",
      "[ur10e_adaptive_inverse_kinematics] Solving IK for [-0.16291553 -0.85482719  0.16698803]\n",
      "[ur10e_adaptive_inverse_kinematics] IK solution converged!\n",
      "[ur10e_adaptive_inverse_kinematics] Solving IK for [-0.11233827 -0.875789    0.16692529]\n",
      "[ur10e_adaptive_inverse_kinematics] IK solution converged!\n",
      "[ur10e_adaptive_inverse_kinematics] Solving IK for [-0.48973152 -0.78070728  0.16681952]\n",
      "[ur10e_adaptive_inverse_kinematics] IK solution converged!\n",
      "[ur10e_adaptive_inverse_kinematics] Solving IK for [-0.43915425 -0.80166909  0.16675678]\n",
      "[ur10e_adaptive_inverse_kinematics] IK solution converged!\n",
      "[ur10e_adaptive_inverse_kinematics] Solving IK for [-0.38857699 -0.8226309   0.16669403]\n",
      "[ur10e_adaptive_inverse_kinematics] IK solution converged!\n",
      "[ur10e_adaptive_inverse_kinematics] Solving IK for [-0.33799973 -0.84359271  0.16663128]\n",
      "[ur10e_adaptive_inverse_kinematics] IK solution converged!\n",
      "[ur10e_adaptive_inverse_kinematics] Solving IK for [-0.28742246 -0.86455453  0.16656854]\n",
      "[ur10e_adaptive_inverse_kinematics] IK solution converged!\n",
      "[ur10e_adaptive_inverse_kinematics] Solving IK for [-0.2368452  -0.88551634  0.16650579]\n",
      "[ur10e_adaptive_inverse_kinematics] IK solution converged!\n",
      "[ur10e_adaptive_inverse_kinematics] Solving IK for [-0.18626794 -0.90647815  0.16644304]\n",
      "[ur10e_adaptive_inverse_kinematics] IK solution converged!\n",
      "[ur10e_adaptive_inverse_kinematics] Solving IK for [-0.13569067 -0.92743996  0.1663803 ]\n",
      "[ur10e_adaptive_inverse_kinematics] IK solution converged!\n",
      "[ur10e_adaptive_inverse_kinematics] Solving IK for [-0.51308392 -0.83235824  0.16627453]\n",
      "[ur10e_adaptive_inverse_kinematics] IK solution converged!\n",
      "[ur10e_adaptive_inverse_kinematics] Solving IK for [-0.46250666 -0.85332005  0.16621179]\n",
      "[ur10e_adaptive_inverse_kinematics] IK solution converged!\n",
      "[ur10e_adaptive_inverse_kinematics] Solving IK for [-0.4119294  -0.87428186  0.16614904]\n",
      "[ur10e_adaptive_inverse_kinematics] IK solution converged!\n",
      "[ur10e_adaptive_inverse_kinematics] Solving IK for [-0.36135213 -0.89524367  0.16608629]\n",
      "[ur10e_adaptive_inverse_kinematics] IK solution converged!\n",
      "[ur10e_adaptive_inverse_kinematics] Solving IK for [-0.31077487 -0.91620549  0.16602355]\n",
      "[ur10e_adaptive_inverse_kinematics] IK solution converged!\n",
      "[ur10e_adaptive_inverse_kinematics] Solving IK for [-0.2601976 -0.9371673  0.1659608]\n",
      "[ur10e_adaptive_inverse_kinematics] IK solution converged!\n",
      "[ur10e_adaptive_inverse_kinematics] Solving IK for [-0.20962034 -0.95812911  0.16589805]\n",
      "[ur10e_adaptive_inverse_kinematics] IK solution converged!\n",
      "[ur10e_adaptive_inverse_kinematics] Solving IK for [-0.15904308 -0.97909092  0.16583531]\n",
      "[ur10e_adaptive_inverse_kinematics] IK solution converged!\n",
      "[ur10e_adaptive_inverse_kinematics] Solving IK for [-0.53643633 -0.8840092   0.16572954]\n",
      "[ur10e_adaptive_inverse_kinematics] IK solution converged!\n",
      "[ur10e_adaptive_inverse_kinematics] Solving IK for [-0.48585907 -0.90497101  0.1656668 ]\n",
      "[ur10e_adaptive_inverse_kinematics] IK solution converged!\n",
      "[ur10e_adaptive_inverse_kinematics] Solving IK for [-0.4352818  -0.92593282  0.16560405]\n",
      "[ur10e_adaptive_inverse_kinematics] IK solution converged!\n",
      "[ur10e_adaptive_inverse_kinematics] Solving IK for [-0.38470454 -0.94689464  0.1655413 ]\n",
      "[ur10e_adaptive_inverse_kinematics] IK solution converged!\n",
      "[ur10e_adaptive_inverse_kinematics] Solving IK for [-0.33412727 -0.96785645  0.16547856]\n",
      "[ur10e_adaptive_inverse_kinematics] IK solution converged!\n",
      "[ur10e_adaptive_inverse_kinematics] Solving IK for [-0.28355001 -0.98881826  0.16541581]\n",
      "[ur10e_adaptive_inverse_kinematics] IK solution converged!\n",
      "[ur10e_adaptive_inverse_kinematics] Solving IK for [-0.23297275 -1.00978007  0.16535306]\n",
      "[ur10e_adaptive_inverse_kinematics] IK solution converged!\n",
      "[ur10e_adaptive_inverse_kinematics] Solving IK for [-0.18239548 -1.03074188  0.16529032]\n",
      "[ur10e_adaptive_inverse_kinematics] IK solution converged!\n",
      "[ur10e_adaptive_inverse_kinematics] Solving IK for [-0.55978873 -0.93566016  0.16518455]\n",
      "[ur10e_adaptive_inverse_kinematics] IK solution converged!\n",
      "[ur10e_adaptive_inverse_kinematics] Solving IK for [-0.50921147 -0.95662197  0.16512181]\n",
      "[ur10e_adaptive_inverse_kinematics] IK solution converged!\n",
      "[ur10e_adaptive_inverse_kinematics] Solving IK for [-0.45863421 -0.97758378  0.16505906]\n",
      "[ur10e_adaptive_inverse_kinematics] IK solution converged!\n",
      "[ur10e_adaptive_inverse_kinematics] Solving IK for [-0.40805694 -0.9985456   0.16499631]\n",
      "[ur10e_adaptive_inverse_kinematics] IK solution converged!\n",
      "[ur10e_adaptive_inverse_kinematics] Solving IK for [-0.35747968 -1.01950741  0.16493357]\n",
      "[ur10e_adaptive_inverse_kinematics] IK solution converged!\n",
      "[ur10e_adaptive_inverse_kinematics] Solving IK for [-0.30690242 -1.04046922  0.16487082]\n",
      "[ur10e_adaptive_inverse_kinematics] IK solution converged!\n",
      "[ur10e_adaptive_inverse_kinematics] Solving IK for [-0.25632515 -1.06143103  0.16480807]\n",
      "[ur10e_adaptive_inverse_kinematics] IK solution converged!\n",
      "[ur10e_adaptive_inverse_kinematics] Solving IK for [-0.20574789 -1.08239284  0.16474533]\n",
      "[ur10e_adaptive_inverse_kinematics] IK solution converged!\n",
      "[ur10e_adaptive_inverse_kinematics] Solving IK for [-0.58314114 -0.98731112  0.16463956]\n",
      "[ur10e_adaptive_inverse_kinematics] IK solution converged!\n",
      "[ur10e_adaptive_inverse_kinematics] Solving IK for [-0.53256388 -1.00827293  0.16457682]\n",
      "[ur10e_adaptive_inverse_kinematics] IK solution converged!\n",
      "[ur10e_adaptive_inverse_kinematics] Solving IK for [-0.48198661 -1.02923475  0.16451407]\n",
      "[ur10e_adaptive_inverse_kinematics] IK solution converged!\n",
      "[ur10e_adaptive_inverse_kinematics] Solving IK for [-0.43140935 -1.05019656  0.16445132]\n",
      "[ur10e_adaptive_inverse_kinematics] IK solution converged!\n",
      "[ur10e_adaptive_inverse_kinematics] Solving IK for [-0.38083209 -1.07115837  0.16438858]\n",
      "[ur10e_adaptive_inverse_kinematics] IK solution converged!\n",
      "[ur10e_adaptive_inverse_kinematics] Solving IK for [-0.33025482 -1.09212018  0.16432583]\n",
      "[ur10e_adaptive_inverse_kinematics] IK solution converged!\n",
      "[ur10e_adaptive_inverse_kinematics] Solving IK for [-0.27967756 -1.11308199  0.16426308]\n",
      "[ur10e_adaptive_inverse_kinematics] IK solution converged!\n",
      "[ur10e_adaptive_inverse_kinematics] Solving IK for [-0.22910029 -1.1340438   0.16420034]\n",
      "[ur10e_adaptive_inverse_kinematics] IK solution converged!\n"
     ]
    }
   ],
   "execution_count": 6
  },
  {
   "metadata": {
    "ExecuteTime": {
     "end_time": "2025-05-06T12:29:07.405270Z",
     "start_time": "2025-05-06T12:29:07.376942Z"
    }
   },
   "cell_type": "code",
   "source": "LOOKUP",
   "id": "befd9a21c1385f20",
   "outputs": [
    {
     "data": {
      "text/plain": [
       "{'a1': JointVector(shoulder_pan=0.7469881467399847, shoulder_lift=0.8218334221641457, elbow=-2.0427883789930905, wrist_1=-0.3498413699659517, wrist_2=-1.5707963267948966, wrist_3=-1.5707963267948966),\n",
       " 'a2': JointVector(shoulder_pan=0.8163273188653123, shoulder_lift=0.8275694742236778, elbow=-2.0605990778705867, wrist_1=-0.3377667231479875, wrist_2=-1.5707963267948966, wrist_3=-1.5707963267948966),\n",
       " 'a3': JointVector(shoulder_pan=0.8882366397609845, shoulder_lift=0.8307258906643327, elbow=-2.0703941488322126, wrist_1=-0.3311280686270166, wrist_2=-1.5707963267948966, wrist_3=-1.5707963267948966),\n",
       " 'a4': JointVector(shoulder_pan=0.962022997909753, shoulder_lift=0.8313531216286523, elbow=-2.072081220001036, wrist_1=-0.3300682284225127, wrist_2=-1.5707963267948966, wrist_3=-1.5707963267948966),\n",
       " 'a5': JointVector(shoulder_pan=1.036893603528371, shoulder_lift=0.829458374157023, elbow=-2.0656438471865717, wrist_1=-0.3346108537653478, wrist_2=-1.5707963267948966, wrist_3=-1.5707963267948966),\n",
       " 'a6': JointVector(shoulder_pan=1.112005858349654, shoulder_lift=0.825004248254721, elbow=-2.051143718027405, wrist_1=-0.3446568570222128, wrist_2=-1.5707963267948966, wrist_3=-1.5707963267948966),\n",
       " 'a7': JointVector(shoulder_pan=1.1865235017132225, shoulder_lift=0.8179147106576425, elbow=-2.0287124010415525, wrist_1=-0.3599986364109866, wrist_2=-1.5707963267948966, wrist_3=-1.5707963267948966),\n",
       " 'a8': JointVector(shoulder_pan=1.259669938080555, shoulder_lift=0.8080862585794327, elbow=-1.9985338971149655, wrist_1=-0.38034868825936385, wrist_2=-1.5707963267948966, wrist_3=-1.5707963267948966),\n",
       " 'b1': JointVector(shoulder_pan=0.7749490561468407, shoulder_lift=0.7839890747505659, elbow=-1.9278849723094873, wrist_1=-0.42690042923597504, wrist_2=-1.5707963267948966, wrist_3=-1.5707963267948966),\n",
       " 'b2': JointVector(shoulder_pan=0.8398712835774154, shoulder_lift=0.7901847729467334, elbow=-1.9452936288413252, wrist_1=-0.41568747090030467, wrist_2=-1.5707963267948966, wrist_3=-1.5707963267948966),\n",
       " 'b3': JointVector(shoulder_pan=0.9068818491058277, shoulder_lift=0.7936379983144567, elbow=-1.9549677225026745, wrist_1=-0.4094666026066789, wrist_2=-1.5707963267948966, wrist_3=-1.5707963267948966),\n",
       " 'b4': JointVector(shoulder_pan=0.975415066695379, shoulder_lift=0.7943825010888382, elbow=-1.9568449920328654, wrist_1=-0.40833383585086924, wrist_2=-1.5707963267948966, wrist_3=-1.5707963267948966),\n",
       " 'b5': JointVector(shoulder_pan=1.0448351510215537, shoulder_lift=0.792423639218042, elbow=-1.9509128697451354, wrist_1=-0.41230709626780304, wrist_2=-1.5707963267948966, wrist_3=-1.5707963267948966),\n",
       " 'b6': JointVector(shoulder_pan=1.114470829758777, shoulder_lift=0.7877377255275148, elbow=-1.9372103828696423, wrist_1=-0.4213236694527691, wrist_2=-1.5707963267948966, wrist_3=-1.5707963267948966),\n",
       " 'b7': JointVector(shoulder_pan=1.1836538594418915, shoulder_lift=0.7802745637500641, elbow=-1.915822221300405, wrist_1=-0.4352486692445554, wrist_2=-1.5707963267948966, wrist_3=-1.5707963267948966),\n",
       " 'b8': JointVector(shoulder_pan=1.2517560509415218, shoulder_lift=0.7699622005462298, elbow=-1.8868656321346784, wrist_1=-0.45389289520644804, wrist_2=-1.5707963267948966, wrist_3=-1.5707963267948966),\n",
       " 'c1': JointVector(shoulder_pan=0.7992670159033204, shoulder_lift=0.7409560713409482, elbow=-1.8082421053093316, wrist_1=-0.5035102928265129, wrist_2=-1.5707963267948966, wrist_3=-1.5707963267948966),\n",
       " 'c2': JointVector(shoulder_pan=0.8602710386267046, shoulder_lift=0.74753280556572, elbow=-1.8254580751472467, wrist_1=-0.4928710572133699, wrist_2=-1.5707963267948966, wrist_3=-1.5707963267948966),\n",
       " 'c3': JointVector(shoulder_pan=0.9229966089406827, shoulder_lift=0.7512390394517058, elbow=-1.8351215282982676, wrist_1=-0.48691383794833487, wrist_2=-1.5707963267948966, wrist_3=-1.5707963267948966),\n",
       " 'c4': JointVector(shoulder_pan=0.9869766048919596, shoulder_lift=0.7521015975193857, elbow=-1.837196420863486, wrist_1=-0.4857015034507963, wrist_2=-1.5707963267948966, wrist_3=-1.5707963267948966),\n",
       " 'c5': JointVector(shoulder_pan=1.0516933467615945, shoulder_lift=0.7501252541048553, elbow=-1.8316745454284318, wrist_1=-0.48924703547131987, wrist_2=-1.5707963267948966, wrist_3=-1.5707963267948966),\n",
       " 'c6': JointVector(shoulder_pan=1.1166032247716362, shoulder_lift=0.74529253314793, elbow=-1.818577273754118, wrist_1=-0.4975115861887085, wrist_2=-1.5707963267948966, wrist_3=-1.5707963267948966),\n",
       " 'c7': JointVector(shoulder_pan=1.1811638393083972, shoulder_lift=0.7375645377776334, elbow=-1.7979509525182036, wrist_1=-0.5104099120543264, wrist_2=-1.5707963267948966, wrist_3=-1.5707963267948966),\n",
       " 'c8': JointVector(shoulder_pan=1.2448603350500091, shoulder_lift=0.7268823202558291, elbow=-1.7698562576496395, wrist_1=-0.5278223894010863, wrist_2=-1.5707963267948966, wrist_3=-1.5707963267948966),\n",
       " 'd1': JointVector(shoulder_pan=0.8206076523776221, shoulder_lift=0.6928069706871631, elbow=-1.6827160226107043, wrist_1=-0.5808872748713554, wrist_2=-1.5707963267948966, wrist_3=-1.5707963267948966),\n",
       " 'd2': JointVector(shoulder_pan=0.8781182886512331, shoulder_lift=0.6997490187750167, elbow=-1.6999584462957784, wrist_1=-0.570586899274135, wrist_2=-1.5707963267948966, wrist_3=-1.5707963267948966),\n",
       " 'd3': JointVector(shoulder_pan=0.937066165659222, shoulder_lift=0.7036999971684238, elbow=-1.709729945410882, wrist_1=-0.5647663785524382, wrist_2=-1.5707963267948966, wrist_3=-1.5707963267948966),\n",
       " 'd4': JointVector(shoulder_pan=0.9970614295012837, shoulder_lift=0.7046860750474823, elbow=-1.7120194742854784, wrist_1=-0.5634629275569003, wrist_2=-1.5707963267948966, wrist_3=-1.5707963267948966),\n",
       " 'd5': JointVector(shoulder_pan=1.0576769541818576, shoulder_lift=0.7027125384631482, elbow=-1.7068239571382884, wrist_1=-0.5666849081197565, wrist_2=-1.5707963267948966, wrist_3=-1.5707963267948966),\n",
       " 'd6': JointVector(shoulder_pan=1.1184662492603272, shoulder_lift=0.6977639251854039, elbow=-1.6941500305234252, wrist_1=-0.5744102214568754, wrist_2=-1.5707963267948966, wrist_3=-1.5707963267948966),\n",
       " 'd7': JointVector(shoulder_pan=1.1789830334044904, shoulder_lift=0.6898039080133517, elbow=-1.6740100996570362, wrist_1=-0.5865901351512119, wrist_2=-1.5707963267948966, wrist_3=-1.5707963267948966),\n",
       " 'd8': JointVector(shoulder_pan=1.2388003664685703, shoulder_lift=0.6787746293189785, elbow=-1.6464127725526532, wrist_1=-0.6031581835612219, wrist_2=-1.5707963267948966, wrist_3=-1.5707963267948966),\n",
       " 'e1': JointVector(shoulder_pan=0.8394842916233252, shoulder_lift=0.6392418028293719, elbow=-1.5497436152784039, wrist_1=-0.6602945143458647, wrist_2=-1.5707963267948966, wrist_3=-1.5707963267948966),\n",
       " 'e2': JointVector(shoulder_pan=0.8938647395221876, shoulder_lift=0.6465866295523032, elbow=-1.5672652510201934, wrist_1=-0.6501177053270064, wrist_2=-1.5707963267948966, wrist_3=-1.5707963267948966),\n",
       " 'e3': JointVector(shoulder_pan=0.9494585343254197, shoulder_lift=0.6508045221860964, elbow=-1.5772852134355444, wrist_1=-0.6443156355454487, wrist_2=-1.5707963267948966, wrist_3=-1.5707963267948966),\n",
       " 'e4': JointVector(shoulder_pan=1.0059371557952395, shoulder_lift=0.6519260150120345, elbow=-1.5798191489533422, wrist_1=-0.6429031928535891, wrist_2=-1.5707963267948966, wrist_3=-1.5707963267948966),\n",
       " 'e5': JointVector(shoulder_pan=1.0629440726996973, shoulder_lift=0.64995806320166, elbow=-1.57487045269309, wrist_1=-0.6458839373034668, wrist_2=-1.5707963267948966, wrist_3=-1.5707963267948966),\n",
       " 'e6': JointVector(shoulder_pan=1.120108015038576, shoulder_lift=0.644884498797554, elbow=-1.5624322254399983, wrist_1=-0.6532486001524525, wrist_2=-1.5707963267948966, wrist_3=-1.5707963267948966),\n",
       " 'e7': JointVector(shoulder_pan=1.1770573798881228, shoulder_lift=0.6366652619929246, elbow=-1.542483447811501, wrist_1=-0.66497814097632, wrist_2=-1.5707963267948966, wrist_3=-1.5707963267948966),\n",
       " 'e8': JointVector(shoulder_pan=1.2334343949908086, shoulder_lift=0.6252341598393167, elbow=-1.5149792218338665, wrist_1=-0.6810512648003468, wrist_2=-1.5707963267948966, wrist_3=-1.5707963267948966),\n",
       " 'f1': JointVector(shoulder_pan=0.8562990323038232, shoulder_lift=0.5795140359028895, elbow=-1.4070784382721395, wrist_1=-0.7432319244256467, wrist_2=-1.5707963267948966, wrist_3=-1.5707963267948966),\n",
       " 'f2': JointVector(shoulder_pan=0.9078612706764911, shoulder_lift=0.5873582168858178, elbow=-1.425204157133003, wrist_1=-0.7329503865477114, wrist_2=-1.5707963267948966, wrist_3=-1.5707963267948966),\n",
       " 'f3': JointVector(shoulder_pan=0.9604580430950544, shoulder_lift=0.5918993274545287, elbow=-1.4356566020472672, wrist_1=-0.7270390522021579, wrist_2=-1.5707963267948966, wrist_3=-1.5707963267948966),\n",
       " 'f4': JointVector(shoulder_pan=1.013810078504397, shoulder_lift=0.5931778027260716, elbow=-1.4384840537892631, wrist_1=-0.7254900757317051, wrist_2=-1.5707963267948966, wrist_3=-1.5707963267948966),\n",
       " 'f5': JointVector(shoulder_pan=1.0676166940449978, shoulder_lift=0.5912038204629095, elbow=-1.4336988384920577, wrist_1=-0.7283013087657482, wrist_2=-1.5707963267948966, wrist_3=-1.5707963267948966),\n",
       " 'f6': JointVector(shoulder_pan=1.121565799693346, shoulder_lift=0.5859581829793122, elbow=-1.4212798674076477, wrist_1=-0.7354746423665612, wrist_2=-1.5707963267948966, wrist_3=-1.5707963267948966),\n",
       " 'f7': JointVector(shoulder_pan=1.1753446921787514, shoulder_lift=0.5773909020861638, elbow=-1.4011683235948824, wrist_1=-0.747018905286178, wrist_2=-1.5707963267948966, wrist_3=-1.5707963267948966),\n",
       " 'f8': JointVector(shoulder_pan=1.2286507175744452, shoulder_lift=0.5654171843570869, elbow=-1.3732560697994565, wrist_1=-0.7629574413525271, wrist_2=-1.5707963267948966, wrist_3=-1.5707963267948966),\n",
       " 'g1': JointVector(shoulder_pan=0.8713712409819996, shoulder_lift=0.5122117937823458, elbow=-1.251266822709017, wrist_1=-0.8317412978682255, wrist_2=-1.5707963267948966, wrist_3=-1.5707963267948966),\n",
       " 'g2': JointVector(shoulder_pan=0.9203846270295389, shoulder_lift=0.5207393384360562, elbow=-1.2704684808287443, wrist_1=-0.8210671844022086, wrist_2=-1.5707963267948966, wrist_3=-1.5707963267948966),\n",
       " 'g3': JointVector(shoulder_pan=0.970287936563268, shoulder_lift=0.5257104078359944, elbow=-1.2816235358368036, wrist_1=-0.8148831987940874, wrist_2=-1.5707963267948966, wrist_3=-1.5707963267948966),\n",
       " 'g4': JointVector(shoulder_pan=1.0208418658001042, shoulder_lift=0.5271838796296724, elbow=-1.2848269775814742, wrist_1=-0.8131532288430945, wrist_2=-1.5707963267948966, wrist_3=-1.5707963267948966),\n",
       " 'g5': JointVector(shoulder_pan=1.0717904936500537, shoulder_lift=0.5251757858428501, elbow=-1.280104962686359, wrist_1=-0.8158671499513879, wrist_2=-1.5707963267948966, wrist_3=-1.5707963267948966),\n",
       " 'g6': JointVector(shoulder_pan=1.122868938586292, shoulder_lift=0.5196609544893257, elbow=-1.2674187243322887, wrist_1=-0.8230385569519336, wrist_2=-1.5707963267948966, wrist_3=-1.5707963267948966),\n",
       " 'g7': JointVector(shoulder_pan=1.1738115758707925, shoulder_lift=0.5105706309295668, elbow=-1.2466587718671374, wrist_1=-0.834708185857326, wrist_2=-1.5707963267948966, wrist_3=-1.5707963267948966),\n",
       " 'g8': JointVector(shoulder_pan=1.2243601860123927, shoulder_lift=0.4977855603358449, elbow=-1.217628421020183, wrist_1=-0.8509534661105582, wrist_2=-1.5707963267948966, wrist_3=-1.5707963267948966),\n",
       " 'h1': JointVector(shoulder_pan=0.8849577378170748, shoulder_lift=0.4347074352249948, elbow=-1.076461629449421, wrist_1=-0.9290421325704703, wrist_2=-1.5707963267948966, wrist_3=-1.5707963267948966),\n",
       " 'h2': JointVector(shoulder_pan=0.9316560440692571, shoulder_lift=0.444269986149717, elbow=-1.0975344677268566, wrist_1=-0.9175318452177568, wrist_2=-1.5707963267948966, wrist_3=-1.5707963267948966),\n",
       " 'h3': JointVector(shoulder_pan=0.9791260018981403, shoulder_lift=0.4498732964197049, elbow=-1.109847314358042, wrist_1=-0.9108223088565595, wrist_2=-1.5707963267948966, wrist_3=-1.5707963267948966),\n",
       " 'h4': JointVector(shoulder_pan=1.0271610582398925, shoulder_lift=0.45161240043249923, elbow=-1.1135761170110114, wrist_1=-0.9088326102163842, wrist_2=-1.5707963267948966, wrist_3=-1.5707963267948966),\n",
       " 'h5': JointVector(shoulder_pan=1.0755415883913997, shoulder_lift=0.44951477809670315, elbow=-1.108772038707412, wrist_1=-0.9115390661841878, wrist_2=-1.5707963267948966, wrist_3=-1.5707963267948966),\n",
       " 'h6': JointVector(shoulder_pan=1.1240408361232996, shoulder_lift=0.4435437881388206, elbow=-1.095368936555646, wrist_1=-0.918971178378071, wrist_2=-1.5707963267948966, wrist_3=-1.5707963267948966),\n",
       " 'h7': JointVector(shoulder_pan=1.1724312566563644, shoulder_lift=0.43359427984902715, elbow=-1.0731737122257765, wrist_1=-0.9312168944181474, wrist_2=-1.5707963267948966, wrist_3=-1.5707963267948966),\n",
       " 'h8': JointVector(shoulder_pan=1.2204908316411742, shoulder_lift=0.4194791054855394, elbow=-1.041836953478169, wrist_1=-0.9484384788022668, wrist_2=-1.5707963267948966, wrist_3=-1.5707963267948966)}"
      ]
     },
     "execution_count": 8,
     "metadata": {},
     "output_type": "execute_result"
    }
   ],
   "execution_count": 8
  },
  {
   "metadata": {
    "ExecuteTime": {
     "end_time": "2025-05-06T12:29:05.996711Z",
     "start_time": "2025-05-06T12:29:05.980582Z"
    }
   },
   "cell_type": "code",
   "source": "",
   "id": "82e9648339a8fa6a",
   "outputs": [],
   "execution_count": null
  },
  {
   "metadata": {},
   "cell_type": "code",
   "outputs": [],
   "execution_count": null,
   "source": "",
   "id": "bf104a935352ef3f"
  }
 ],
 "metadata": {
  "kernelspec": {
   "display_name": "Python 3",
   "language": "python",
   "name": "python3"
  },
  "language_info": {
   "codemirror_mode": {
    "name": "ipython",
    "version": 2
   },
   "file_extension": ".py",
   "mimetype": "text/x-python",
   "name": "python",
   "nbconvert_exporter": "python",
   "pygments_lexer": "ipython2",
   "version": "2.7.6"
  }
 },
 "nbformat": 4,
 "nbformat_minor": 5
}
